{
 "cells": [
  {
   "cell_type": "markdown",
   "metadata": {},
   "source": [
    "# Recipe2Cuisine\n",
    "\n",
    "Data Challenge: July 19, 2020\n",
    "Candidate: Isaac Chung\\\n",
    "Time alloted: 4 hours\\\n",
    "Task: 1) Design and execute a method to predict the cuisine of a recipe given only its ingredients. How could you design this to be robust enough to understand similarities / substitutions between ingredients? 2) For each each major cuisine, what are the driving ingredients that characterize it?\n",
    "\n",
    "Your product manager indicates a likelihood that you will only need to write a guideline for an outsourced team to hand label the remaining corpus. 3) How would you go about writing this guide for a few major cuisines?"
   ]
  },
  {
   "cell_type": "code",
   "execution_count": 1,
   "metadata": {},
   "outputs": [],
   "source": [
    "import pandas as pd\n",
    "import numpy as np\n",
    "\n",
    "import matplotlib.pyplot as plt\n",
    "%matplotlib inline\n",
    "import seaborn as sns"
   ]
  },
  {
   "cell_type": "markdown",
   "metadata": {},
   "source": [
    "## 0. Import data\n",
    "First let's import the data set, and see what's inside. Data is given in a json file. Let's use pandas' read_json function."
   ]
  },
  {
   "cell_type": "code",
   "execution_count": 2,
   "metadata": {},
   "outputs": [],
   "source": [
    "data = pd.read_json(\"recipies.json\") "
   ]
  },
  {
   "cell_type": "markdown",
   "metadata": {},
   "source": [
    "We have cuisine as class labels, and list of ingredients for each recipe id. "
   ]
  },
  {
   "cell_type": "code",
   "execution_count": 3,
   "metadata": {},
   "outputs": [
    {
     "data": {
      "text/html": [
       "<div>\n",
       "<style scoped>\n",
       "    .dataframe tbody tr th:only-of-type {\n",
       "        vertical-align: middle;\n",
       "    }\n",
       "\n",
       "    .dataframe tbody tr th {\n",
       "        vertical-align: top;\n",
       "    }\n",
       "\n",
       "    .dataframe thead th {\n",
       "        text-align: right;\n",
       "    }\n",
       "</style>\n",
       "<table border=\"1\" class=\"dataframe\">\n",
       "  <thead>\n",
       "    <tr style=\"text-align: right;\">\n",
       "      <th></th>\n",
       "      <th>id</th>\n",
       "      <th>cuisine</th>\n",
       "      <th>ingredients</th>\n",
       "    </tr>\n",
       "  </thead>\n",
       "  <tbody>\n",
       "    <tr>\n",
       "      <th>0</th>\n",
       "      <td>10259</td>\n",
       "      <td>greek</td>\n",
       "      <td>[romaine lettuce, black olives, grape tomatoes...</td>\n",
       "    </tr>\n",
       "    <tr>\n",
       "      <th>1</th>\n",
       "      <td>25693</td>\n",
       "      <td>southern_us</td>\n",
       "      <td>[plain flour, ground pepper, salt, tomatoes, g...</td>\n",
       "    </tr>\n",
       "    <tr>\n",
       "      <th>2</th>\n",
       "      <td>20130</td>\n",
       "      <td>filipino</td>\n",
       "      <td>[eggs, pepper, salt, mayonaise, cooking oil, g...</td>\n",
       "    </tr>\n",
       "    <tr>\n",
       "      <th>3</th>\n",
       "      <td>22213</td>\n",
       "      <td>indian</td>\n",
       "      <td>[water, vegetable oil, wheat, salt]</td>\n",
       "    </tr>\n",
       "    <tr>\n",
       "      <th>4</th>\n",
       "      <td>13162</td>\n",
       "      <td>indian</td>\n",
       "      <td>[black pepper, shallots, cornflour, cayenne pe...</td>\n",
       "    </tr>\n",
       "  </tbody>\n",
       "</table>\n",
       "</div>"
      ],
      "text/plain": [
       "      id      cuisine                                        ingredients\n",
       "0  10259        greek  [romaine lettuce, black olives, grape tomatoes...\n",
       "1  25693  southern_us  [plain flour, ground pepper, salt, tomatoes, g...\n",
       "2  20130     filipino  [eggs, pepper, salt, mayonaise, cooking oil, g...\n",
       "3  22213       indian                [water, vegetable oil, wheat, salt]\n",
       "4  13162       indian  [black pepper, shallots, cornflour, cayenne pe..."
      ]
     },
     "execution_count": 3,
     "metadata": {},
     "output_type": "execute_result"
    }
   ],
   "source": [
    "data.head()"
   ]
  },
  {
   "cell_type": "markdown",
   "metadata": {},
   "source": [
    "## 1. Initial Data Analysis:\n",
    "1. Data set shape, types\n",
    "2. NaN values\n",
    "3. Duplicates"
   ]
  },
  {
   "cell_type": "markdown",
   "metadata": {},
   "source": [
    "### 1.1 Data set shape and types\n",
    "Let's see what the shape and type of the data we have. We are working with just under 40,000 recipes. It does not seem like there are missing values."
   ]
  },
  {
   "cell_type": "code",
   "execution_count": 4,
   "metadata": {},
   "outputs": [
    {
     "name": "stdout",
     "output_type": "stream",
     "text": [
      "(39774, 3)\n",
      "<class 'pandas.core.frame.DataFrame'>\n",
      "RangeIndex: 39774 entries, 0 to 39773\n",
      "Data columns (total 3 columns):\n",
      " #   Column       Non-Null Count  Dtype \n",
      "---  ------       --------------  ----- \n",
      " 0   id           39774 non-null  int64 \n",
      " 1   cuisine      39774 non-null  object\n",
      " 2   ingredients  39774 non-null  object\n",
      "dtypes: int64(1), object(2)\n",
      "memory usage: 932.3+ KB\n",
      "None\n"
     ]
    }
   ],
   "source": [
    "print(data.shape)\n",
    "print(data.info())"
   ]
  },
  {
   "cell_type": "markdown",
   "metadata": {},
   "source": [
    "### 1.2 Check for NaN values\n",
    "Looks good so far."
   ]
  },
  {
   "cell_type": "code",
   "execution_count": 5,
   "metadata": {},
   "outputs": [
    {
     "data": {
      "text/plain": [
       "id             0\n",
       "cuisine        0\n",
       "ingredients    0\n",
       "dtype: int64"
      ]
     },
     "execution_count": 5,
     "metadata": {},
     "output_type": "execute_result"
    }
   ],
   "source": [
    "data.isna().sum()"
   ]
  },
  {
   "cell_type": "markdown",
   "metadata": {},
   "source": [
    "### 1.3 Check for duplicate values\n",
    "Looks good as well!"
   ]
  },
  {
   "cell_type": "code",
   "execution_count": 6,
   "metadata": {},
   "outputs": [
    {
     "data": {
      "text/plain": [
       "0"
      ]
     },
     "execution_count": 6,
     "metadata": {},
     "output_type": "execute_result"
    }
   ],
   "source": [
    "data.id.duplicated().sum()"
   ]
  },
  {
   "cell_type": "markdown",
   "metadata": {},
   "source": [
    "Let's drop the id column as its use is complete."
   ]
  },
  {
   "cell_type": "code",
   "execution_count": 7,
   "metadata": {},
   "outputs": [],
   "source": [
    "data.drop(columns='id', inplace=True)"
   ]
  },
  {
   "cell_type": "code",
   "execution_count": 8,
   "metadata": {},
   "outputs": [
    {
     "name": "stdout",
     "output_type": "stream",
     "text": [
      "<class 'pandas.core.frame.DataFrame'>\n",
      "RangeIndex: 39774 entries, 0 to 39773\n",
      "Data columns (total 2 columns):\n",
      " #   Column       Non-Null Count  Dtype \n",
      "---  ------       --------------  ----- \n",
      " 0   cuisine      39774 non-null  object\n",
      " 1   ingredients  39774 non-null  object\n",
      "dtypes: object(2)\n",
      "memory usage: 621.6+ KB\n"
     ]
    }
   ],
   "source": [
    "data.info()"
   ]
  },
  {
   "cell_type": "markdown",
   "metadata": {},
   "source": [
    "## 2. Exploratory Data Analysis"
   ]
  },
  {
   "cell_type": "markdown",
   "metadata": {},
   "source": [
    "### 2.1 Cuisine counts\n",
    "There are 20 classes, and they are imbalanced. Italian and Mexican cuisines are the top two majority classes."
   ]
  },
  {
   "cell_type": "code",
   "execution_count": 9,
   "metadata": {},
   "outputs": [
    {
     "name": "stdout",
     "output_type": "stream",
     "text": [
      "italian         7838\n",
      "mexican         6438\n",
      "southern_us     4320\n",
      "indian          3003\n",
      "chinese         2673\n",
      "french          2646\n",
      "cajun_creole    1546\n",
      "thai            1539\n",
      "japanese        1423\n",
      "greek           1175\n",
      "spanish          989\n",
      "korean           830\n",
      "vietnamese       825\n",
      "moroccan         821\n",
      "british          804\n",
      "filipino         755\n",
      "irish            667\n",
      "jamaican         526\n",
      "russian          489\n",
      "brazilian        467\n",
      "Name: cuisine, dtype: int64\n"
     ]
    },
    {
     "data": {
      "text/plain": [
       "<matplotlib.axes._subplots.AxesSubplot at 0x17151924550>"
      ]
     },
     "execution_count": 9,
     "metadata": {},
     "output_type": "execute_result"
    },
    {
     "data": {
      "image/png": "[encoded data removed]",
      "text/plain": [
       "<Figure size 432x288 with 1 Axes>"
      ]
     },
     "metadata": {
      "needs_background": "light"
     },
     "output_type": "display_data"
    }
   ],
   "source": [
    "print(data.cuisine.value_counts())\n",
    "sns.countplot(y=data.cuisine.sort_values())"
   ]
  },
  {
   "cell_type": "markdown",
   "metadata": {},
   "source": [
    "### 2.2 Ingredients frequency\n",
    "Now let's find out how often these ingredients are used in the recipes. Let's define a master ingredients list. The following method might not be the most optimal, but it gets the job done for now. Then let's see the top 20 ingredients across all cruisines."
   ]
  },
  {
   "cell_type": "code",
   "execution_count": 10,
   "metadata": {},
   "outputs": [],
   "source": [
    "ingredient_list = list()\n",
    "for index, row in data.iterrows():\n",
    "    ingredient_list.extend(row['ingredients'])"
   ]
  },
  {
   "cell_type": "code",
   "execution_count": 11,
   "metadata": {},
   "outputs": [],
   "source": [
    "glist = pd.Series(ingredient_list, dtype=str)"
   ]
  },
  {
   "cell_type": "markdown",
   "metadata": {},
   "source": [
    "We can pick out quickly the top 20 most frequently used ingredients include variants of salt and water. These ingredients are most likely not informative for predicting cuisines. Note that the presence of olive oil might suggest some bias towards italian cooking."
   ]
  },
  {
   "cell_type": "code",
   "execution_count": 12,
   "metadata": {},
   "outputs": [
    {
     "data": {
      "text/plain": [
       "salt                   18049\n",
       "olive oil               7972\n",
       "onions                  7972\n",
       "water                   7457\n",
       "garlic                  7380\n",
       "sugar                   6434\n",
       "garlic cloves           6237\n",
       "butter                  4848\n",
       "ground black pepper     4785\n",
       "all-purpose flour       4632\n",
       "pepper                  4438\n",
       "vegetable oil           4385\n",
       "eggs                    3388\n",
       "soy sauce               3296\n",
       "kosher salt             3113\n",
       "green onions            3078\n",
       "tomatoes                3058\n",
       "large eggs              2948\n",
       "carrots                 2814\n",
       "unsalted butter         2782\n",
       "dtype: int64"
      ]
     },
     "execution_count": 12,
     "metadata": {},
     "output_type": "execute_result"
    }
   ],
   "source": [
    "glist.value_counts().head(20)"
   ]
  },
  {
   "cell_type": "markdown",
   "metadata": {},
   "source": [
    "We can also look at the least frequently used ingredients. Looks like the ingredients below are only mentioned once, in one recipe. There are some brand names included, which might not be something we want to encode, e.g. \"Soy Vay® Veri Veri Teriyaki®\", \"DeLallo\", and \"KRAFT\". This is because these ingredients may be recipe-specific, but not cuisine-specific, meaning they might not all be representative of what the cuisines are generally composed of."
   ]
  },
  {
   "cell_type": "code",
   "execution_count": 13,
   "metadata": {},
   "outputs": [
    {
     "data": {
      "text/plain": [
       "ogura-an                                               1\n",
       "cappuccino                                             1\n",
       "darjeeling tea leaves                                  1\n",
       "Classico Pasta Sauce                                   1\n",
       "Bertolli® Arrabbiata Sauce                             1\n",
       "ascorbic acid                                          1\n",
       "sushi vinegar                                          1\n",
       "morcilla                                               1\n",
       "mushroom broth                                         1\n",
       "nonfat italian dressing                                1\n",
       "Foster Farms boneless skinless chicken breasts         1\n",
       "marrons                                                1\n",
       "Old El Paso™ mild red enchilada sauce                  1\n",
       "fuji apples                                            1\n",
       "uni                                                    1\n",
       "alaskan king salmon                                    1\n",
       "squash seeds                                           1\n",
       "shrimp chips                                           1\n",
       "Conimex Woksaus Specials Vietnamese Gember Knoflook    1\n",
       "blueberry pie filling                                  1\n",
       "dtype: int64"
      ]
     },
     "execution_count": 13,
     "metadata": {},
     "output_type": "execute_result"
    }
   ],
   "source": [
    "glist.value_counts(ascending=True).head(20)"
   ]
  },
  {
   "cell_type": "markdown",
   "metadata": {},
   "source": [
    "Moving forward, we could treat the minimum frequency of ingredients as a tunable hyperparameter. Here I am choosing 1% of the 2nd and 3rd  most frequent counts (79). Given more time, I would write a custom class to implement the fit method for this to be in a sklearn pipeline."
   ]
  },
  {
   "cell_type": "code",
   "execution_count": 14,
   "metadata": {},
   "outputs": [],
   "source": [
    "min_freq = 79\n",
    "mask = glist.isin(glist.value_counts()[glist.value_counts() > min_freq].index)\n",
    "glist = glist[mask]"
   ]
  },
  {
   "cell_type": "markdown",
   "metadata": {},
   "source": [
    "### 2.3 Ingredients count\n",
    "We can count the number of ingredients per recipe, and see the distributions of counts across cuisines."
   ]
  },
  {
   "cell_type": "code",
   "execution_count": 15,
   "metadata": {},
   "outputs": [],
   "source": [
    "data['num_in'] = data.ingredients.map(lambda x: len(x))"
   ]
  },
  {
   "cell_type": "code",
   "execution_count": 16,
   "metadata": {},
   "outputs": [
    {
     "data": {
      "text/html": [
       "<div>\n",
       "<style scoped>\n",
       "    .dataframe tbody tr th:only-of-type {\n",
       "        vertical-align: middle;\n",
       "    }\n",
       "\n",
       "    .dataframe tbody tr th {\n",
       "        vertical-align: top;\n",
       "    }\n",
       "\n",
       "    .dataframe thead th {\n",
       "        text-align: right;\n",
       "    }\n",
       "</style>\n",
       "<table border=\"1\" class=\"dataframe\">\n",
       "  <thead>\n",
       "    <tr style=\"text-align: right;\">\n",
       "      <th></th>\n",
       "      <th>count</th>\n",
       "      <th>mean</th>\n",
       "      <th>std</th>\n",
       "      <th>min</th>\n",
       "      <th>25%</th>\n",
       "      <th>50%</th>\n",
       "      <th>75%</th>\n",
       "      <th>max</th>\n",
       "    </tr>\n",
       "    <tr>\n",
       "      <th>cuisine</th>\n",
       "      <th></th>\n",
       "      <th></th>\n",
       "      <th></th>\n",
       "      <th></th>\n",
       "      <th></th>\n",
       "      <th></th>\n",
       "      <th></th>\n",
       "      <th></th>\n",
       "    </tr>\n",
       "  </thead>\n",
       "  <tbody>\n",
       "    <tr>\n",
       "      <th>brazilian</th>\n",
       "      <td>467.0</td>\n",
       "      <td>9.520343</td>\n",
       "      <td>5.555139</td>\n",
       "      <td>2.0</td>\n",
       "      <td>5.0</td>\n",
       "      <td>9.0</td>\n",
       "      <td>13.0</td>\n",
       "      <td>59.0</td>\n",
       "    </tr>\n",
       "    <tr>\n",
       "      <th>british</th>\n",
       "      <td>804.0</td>\n",
       "      <td>9.708955</td>\n",
       "      <td>4.165011</td>\n",
       "      <td>2.0</td>\n",
       "      <td>7.0</td>\n",
       "      <td>9.0</td>\n",
       "      <td>12.0</td>\n",
       "      <td>30.0</td>\n",
       "    </tr>\n",
       "    <tr>\n",
       "      <th>cajun_creole</th>\n",
       "      <td>1546.0</td>\n",
       "      <td>12.617076</td>\n",
       "      <td>4.611601</td>\n",
       "      <td>2.0</td>\n",
       "      <td>9.0</td>\n",
       "      <td>12.0</td>\n",
       "      <td>16.0</td>\n",
       "      <td>31.0</td>\n",
       "    </tr>\n",
       "    <tr>\n",
       "      <th>chinese</th>\n",
       "      <td>2673.0</td>\n",
       "      <td>11.982791</td>\n",
       "      <td>4.042125</td>\n",
       "      <td>2.0</td>\n",
       "      <td>9.0</td>\n",
       "      <td>12.0</td>\n",
       "      <td>14.0</td>\n",
       "      <td>38.0</td>\n",
       "    </tr>\n",
       "    <tr>\n",
       "      <th>filipino</th>\n",
       "      <td>755.0</td>\n",
       "      <td>10.000000</td>\n",
       "      <td>3.855135</td>\n",
       "      <td>2.0</td>\n",
       "      <td>7.0</td>\n",
       "      <td>10.0</td>\n",
       "      <td>12.0</td>\n",
       "      <td>38.0</td>\n",
       "    </tr>\n",
       "    <tr>\n",
       "      <th>french</th>\n",
       "      <td>2646.0</td>\n",
       "      <td>9.817838</td>\n",
       "      <td>4.144744</td>\n",
       "      <td>1.0</td>\n",
       "      <td>7.0</td>\n",
       "      <td>9.0</td>\n",
       "      <td>12.0</td>\n",
       "      <td>31.0</td>\n",
       "    </tr>\n",
       "    <tr>\n",
       "      <th>greek</th>\n",
       "      <td>1175.0</td>\n",
       "      <td>10.182128</td>\n",
       "      <td>3.729461</td>\n",
       "      <td>1.0</td>\n",
       "      <td>7.0</td>\n",
       "      <td>10.0</td>\n",
       "      <td>12.0</td>\n",
       "      <td>27.0</td>\n",
       "    </tr>\n",
       "    <tr>\n",
       "      <th>indian</th>\n",
       "      <td>3003.0</td>\n",
       "      <td>12.705961</td>\n",
       "      <td>5.016806</td>\n",
       "      <td>1.0</td>\n",
       "      <td>9.0</td>\n",
       "      <td>12.0</td>\n",
       "      <td>16.0</td>\n",
       "      <td>49.0</td>\n",
       "    </tr>\n",
       "    <tr>\n",
       "      <th>irish</th>\n",
       "      <td>667.0</td>\n",
       "      <td>9.299850</td>\n",
       "      <td>3.700505</td>\n",
       "      <td>2.0</td>\n",
       "      <td>7.0</td>\n",
       "      <td>9.0</td>\n",
       "      <td>12.0</td>\n",
       "      <td>27.0</td>\n",
       "    </tr>\n",
       "    <tr>\n",
       "      <th>italian</th>\n",
       "      <td>7838.0</td>\n",
       "      <td>9.909033</td>\n",
       "      <td>3.806708</td>\n",
       "      <td>1.0</td>\n",
       "      <td>7.0</td>\n",
       "      <td>10.0</td>\n",
       "      <td>12.0</td>\n",
       "      <td>65.0</td>\n",
       "    </tr>\n",
       "    <tr>\n",
       "      <th>jamaican</th>\n",
       "      <td>526.0</td>\n",
       "      <td>12.214829</td>\n",
       "      <td>4.763897</td>\n",
       "      <td>2.0</td>\n",
       "      <td>9.0</td>\n",
       "      <td>12.0</td>\n",
       "      <td>15.0</td>\n",
       "      <td>35.0</td>\n",
       "    </tr>\n",
       "    <tr>\n",
       "      <th>japanese</th>\n",
       "      <td>1423.0</td>\n",
       "      <td>9.735067</td>\n",
       "      <td>4.245882</td>\n",
       "      <td>1.0</td>\n",
       "      <td>7.0</td>\n",
       "      <td>9.0</td>\n",
       "      <td>12.0</td>\n",
       "      <td>34.0</td>\n",
       "    </tr>\n",
       "    <tr>\n",
       "      <th>korean</th>\n",
       "      <td>830.0</td>\n",
       "      <td>11.284337</td>\n",
       "      <td>3.878880</td>\n",
       "      <td>2.0</td>\n",
       "      <td>9.0</td>\n",
       "      <td>11.0</td>\n",
       "      <td>14.0</td>\n",
       "      <td>29.0</td>\n",
       "    </tr>\n",
       "    <tr>\n",
       "      <th>mexican</th>\n",
       "      <td>6438.0</td>\n",
       "      <td>10.877446</td>\n",
       "      <td>4.660183</td>\n",
       "      <td>1.0</td>\n",
       "      <td>7.0</td>\n",
       "      <td>10.0</td>\n",
       "      <td>14.0</td>\n",
       "      <td>52.0</td>\n",
       "    </tr>\n",
       "    <tr>\n",
       "      <th>moroccan</th>\n",
       "      <td>821.0</td>\n",
       "      <td>12.909866</td>\n",
       "      <td>4.799813</td>\n",
       "      <td>2.0</td>\n",
       "      <td>9.0</td>\n",
       "      <td>13.0</td>\n",
       "      <td>16.0</td>\n",
       "      <td>31.0</td>\n",
       "    </tr>\n",
       "    <tr>\n",
       "      <th>russian</th>\n",
       "      <td>489.0</td>\n",
       "      <td>10.224949</td>\n",
       "      <td>4.051223</td>\n",
       "      <td>2.0</td>\n",
       "      <td>7.0</td>\n",
       "      <td>10.0</td>\n",
       "      <td>13.0</td>\n",
       "      <td>25.0</td>\n",
       "    </tr>\n",
       "    <tr>\n",
       "      <th>southern_us</th>\n",
       "      <td>4320.0</td>\n",
       "      <td>9.634954</td>\n",
       "      <td>3.869404</td>\n",
       "      <td>1.0</td>\n",
       "      <td>7.0</td>\n",
       "      <td>9.0</td>\n",
       "      <td>12.0</td>\n",
       "      <td>40.0</td>\n",
       "    </tr>\n",
       "    <tr>\n",
       "      <th>spanish</th>\n",
       "      <td>989.0</td>\n",
       "      <td>10.423660</td>\n",
       "      <td>4.160919</td>\n",
       "      <td>1.0</td>\n",
       "      <td>7.0</td>\n",
       "      <td>10.0</td>\n",
       "      <td>13.0</td>\n",
       "      <td>35.0</td>\n",
       "    </tr>\n",
       "    <tr>\n",
       "      <th>thai</th>\n",
       "      <td>1539.0</td>\n",
       "      <td>12.545809</td>\n",
       "      <td>4.411794</td>\n",
       "      <td>1.0</td>\n",
       "      <td>9.0</td>\n",
       "      <td>12.0</td>\n",
       "      <td>15.0</td>\n",
       "      <td>40.0</td>\n",
       "    </tr>\n",
       "    <tr>\n",
       "      <th>vietnamese</th>\n",
       "      <td>825.0</td>\n",
       "      <td>12.675152</td>\n",
       "      <td>5.256173</td>\n",
       "      <td>1.0</td>\n",
       "      <td>9.0</td>\n",
       "      <td>12.0</td>\n",
       "      <td>16.0</td>\n",
       "      <td>31.0</td>\n",
       "    </tr>\n",
       "  </tbody>\n",
       "</table>\n",
       "</div>"
      ],
      "text/plain": [
       "               count       mean       std  min  25%   50%   75%   max\n",
       "cuisine                                                              \n",
       "brazilian      467.0   9.520343  5.555139  2.0  5.0   9.0  13.0  59.0\n",
       "british        804.0   9.708955  4.165011  2.0  7.0   9.0  12.0  30.0\n",
       "cajun_creole  1546.0  12.617076  4.611601  2.0  9.0  12.0  16.0  31.0\n",
       "chinese       2673.0  11.982791  4.042125  2.0  9.0  12.0  14.0  38.0\n",
       "filipino       755.0  10.000000  3.855135  2.0  7.0  10.0  12.0  38.0\n",
       "french        2646.0   9.817838  4.144744  1.0  7.0   9.0  12.0  31.0\n",
       "greek         1175.0  10.182128  3.729461  1.0  7.0  10.0  12.0  27.0\n",
       "indian        3003.0  12.705961  5.016806  1.0  9.0  12.0  16.0  49.0\n",
       "irish          667.0   9.299850  3.700505  2.0  7.0   9.0  12.0  27.0\n",
       "italian       7838.0   9.909033  3.806708  1.0  7.0  10.0  12.0  65.0\n",
       "jamaican       526.0  12.214829  4.763897  2.0  9.0  12.0  15.0  35.0\n",
       "japanese      1423.0   9.735067  4.245882  1.0  7.0   9.0  12.0  34.0\n",
       "korean         830.0  11.284337  3.878880  2.0  9.0  11.0  14.0  29.0\n",
       "mexican       6438.0  10.877446  4.660183  1.0  7.0  10.0  14.0  52.0\n",
       "moroccan       821.0  12.909866  4.799813  2.0  9.0  13.0  16.0  31.0\n",
       "russian        489.0  10.224949  4.051223  2.0  7.0  10.0  13.0  25.0\n",
       "southern_us   4320.0   9.634954  3.869404  1.0  7.0   9.0  12.0  40.0\n",
       "spanish        989.0  10.423660  4.160919  1.0  7.0  10.0  13.0  35.0\n",
       "thai          1539.0  12.545809  4.411794  1.0  9.0  12.0  15.0  40.0\n",
       "vietnamese     825.0  12.675152  5.256173  1.0  9.0  12.0  16.0  31.0"
      ]
     },
     "execution_count": 16,
     "metadata": {},
     "output_type": "execute_result"
    }
   ],
   "source": [
    "data.groupby(['cuisine'])['num_in'].describe()"
   ]
  },
  {
   "cell_type": "markdown",
   "metadata": {},
   "source": [
    "We could also visualize these results on a boxplot. Note that the horizontal line shown in the boxes are medians."
   ]
  },
  {
   "cell_type": "code",
   "execution_count": 17,
   "metadata": {},
   "outputs": [
    {
     "data": {
      "image/png": "[encoded data removed]",
      "text/plain": [
       "<Figure size 1080x360 with 1 Axes>"
      ]
     },
     "metadata": {
      "needs_background": "light"
     },
     "output_type": "display_data"
    }
   ],
   "source": [
    "plt.figure(figsize=(15,5))\n",
    "plt.title('Number of Ingredients per Cuisine')\n",
    "ax = sns.boxplot(x=\"cuisine\", y=\"num_in\", data=data)\n",
    "plt.xticks(rotation=45)\n",
    "plt.show()"
   ]
  },
  {
   "cell_type": "code",
   "execution_count": 18,
   "metadata": {},
   "outputs": [],
   "source": [
    "def join_list(text_list):\n",
    "    return \" \".join(text_list)"
   ]
  },
  {
   "cell_type": "code",
   "execution_count": 19,
   "metadata": {},
   "outputs": [],
   "source": [
    "data['joined'] = data['ingredients'].apply(join_list)"
   ]
  },
  {
   "cell_type": "code",
   "execution_count": 20,
   "metadata": {},
   "outputs": [
    {
     "data": {
      "text/html": [
       "<div>\n",
       "<style scoped>\n",
       "    .dataframe tbody tr th:only-of-type {\n",
       "        vertical-align: middle;\n",
       "    }\n",
       "\n",
       "    .dataframe tbody tr th {\n",
       "        vertical-align: top;\n",
       "    }\n",
       "\n",
       "    .dataframe thead th {\n",
       "        text-align: right;\n",
       "    }\n",
       "</style>\n",
       "<table border=\"1\" class=\"dataframe\">\n",
       "  <thead>\n",
       "    <tr style=\"text-align: right;\">\n",
       "      <th></th>\n",
       "      <th>cuisine</th>\n",
       "      <th>ingredients</th>\n",
       "      <th>num_in</th>\n",
       "      <th>joined</th>\n",
       "    </tr>\n",
       "  </thead>\n",
       "  <tbody>\n",
       "    <tr>\n",
       "      <th>0</th>\n",
       "      <td>greek</td>\n",
       "      <td>[romaine lettuce, black olives, grape tomatoes...</td>\n",
       "      <td>9</td>\n",
       "      <td>romaine lettuce black olives grape tomatoes ga...</td>\n",
       "    </tr>\n",
       "    <tr>\n",
       "      <th>1</th>\n",
       "      <td>southern_us</td>\n",
       "      <td>[plain flour, ground pepper, salt, tomatoes, g...</td>\n",
       "      <td>11</td>\n",
       "      <td>plain flour ground pepper salt tomatoes ground...</td>\n",
       "    </tr>\n",
       "    <tr>\n",
       "      <th>2</th>\n",
       "      <td>filipino</td>\n",
       "      <td>[eggs, pepper, salt, mayonaise, cooking oil, g...</td>\n",
       "      <td>12</td>\n",
       "      <td>eggs pepper salt mayonaise cooking oil green c...</td>\n",
       "    </tr>\n",
       "    <tr>\n",
       "      <th>3</th>\n",
       "      <td>indian</td>\n",
       "      <td>[water, vegetable oil, wheat, salt]</td>\n",
       "      <td>4</td>\n",
       "      <td>water vegetable oil wheat salt</td>\n",
       "    </tr>\n",
       "    <tr>\n",
       "      <th>4</th>\n",
       "      <td>indian</td>\n",
       "      <td>[black pepper, shallots, cornflour, cayenne pe...</td>\n",
       "      <td>20</td>\n",
       "      <td>black pepper shallots cornflour cayenne pepper...</td>\n",
       "    </tr>\n",
       "  </tbody>\n",
       "</table>\n",
       "</div>"
      ],
      "text/plain": [
       "       cuisine                                        ingredients  num_in  \\\n",
       "0        greek  [romaine lettuce, black olives, grape tomatoes...       9   \n",
       "1  southern_us  [plain flour, ground pepper, salt, tomatoes, g...      11   \n",
       "2     filipino  [eggs, pepper, salt, mayonaise, cooking oil, g...      12   \n",
       "3       indian                [water, vegetable oil, wheat, salt]       4   \n",
       "4       indian  [black pepper, shallots, cornflour, cayenne pe...      20   \n",
       "\n",
       "                                              joined  \n",
       "0  romaine lettuce black olives grape tomatoes ga...  \n",
       "1  plain flour ground pepper salt tomatoes ground...  \n",
       "2  eggs pepper salt mayonaise cooking oil green c...  \n",
       "3                     water vegetable oil wheat salt  \n",
       "4  black pepper shallots cornflour cayenne pepper...  "
      ]
     },
     "execution_count": 20,
     "metadata": {},
     "output_type": "execute_result"
    }
   ],
   "source": [
    "data.head()"
   ]
  },
  {
   "cell_type": "markdown",
   "metadata": {},
   "source": [
    "## 3. Feature Engineering\n",
    "We have some ingredients that are shared among cuisines, and some ingredients that are unique to some cuisines.  Since the list of ingredients can be read in no particular order (word order does not matter), we can get a bag-of-words (BOW) model. I am opting for a simple method by using TF-IDF.\n",
    "\n",
    "From [tfidf.com](http://www.tfidf.com/), \"Tf-idf stands for term frequency-inverse document frequency. This weight is a statistical measure used to evaluate how important a word is to a document in a collection or corpus. The importance increases proportionally to the number of times a word appears in the document but is offset by the frequency of the word in the corpus.\" Here our recipes would be our 'documents'."
   ]
  },
  {
   "cell_type": "code",
   "execution_count": 21,
   "metadata": {},
   "outputs": [],
   "source": [
    "from sklearn.pipeline import Pipeline\n",
    "from sklearn.feature_extraction.text import TfidfVectorizer"
   ]
  },
  {
   "cell_type": "markdown",
   "metadata": {},
   "source": [
    "We want to convert all text to lowercase. Scikit-learn's TfidfVectorizer, which is equivalent to applying the CountVectorizer followed by TfidfTransformer, can do this as well. We can use the default options. As for the vocabulary, using the ingredients frequency results, we should drop 'salt' and 'water'. "
   ]
  },
  {
   "cell_type": "code",
   "execution_count": 22,
   "metadata": {},
   "outputs": [
    {
     "data": {
      "text/plain": [
       "367999"
      ]
     },
     "execution_count": 22,
     "metadata": {},
     "output_type": "execute_result"
    }
   ],
   "source": [
    "glist.count()"
   ]
  },
  {
   "cell_type": "code",
   "execution_count": 23,
   "metadata": {},
   "outputs": [
    {
     "data": {
      "text/plain": [
       "342493"
      ]
     },
     "execution_count": 23,
     "metadata": {},
     "output_type": "execute_result"
    }
   ],
   "source": [
    "glist = glist[~glist.isin(['salt','water'])]\n",
    "glist.count()"
   ]
  },
  {
   "cell_type": "markdown",
   "metadata": {},
   "source": [
    "We want the BOW model to include unique vocabularies from the corpus."
   ]
  },
  {
   "cell_type": "code",
   "execution_count": 24,
   "metadata": {},
   "outputs": [],
   "source": [
    "unique_vocab = glist.drop_duplicates().tolist()\n",
    "vectorizer = TfidfVectorizer(min_df=5, vocabulary=unique_vocab)\n",
    "t_matrix = vectorizer.fit_transform(data.joined).toarray()"
   ]
  },
  {
   "cell_type": "code",
   "execution_count": 25,
   "metadata": {},
   "outputs": [
    {
     "data": {
      "text/plain": [
       "729"
      ]
     },
     "execution_count": 25,
     "metadata": {},
     "output_type": "execute_result"
    }
   ],
   "source": [
    "len(vectorizer.vocabulary_)"
   ]
  },
  {
   "cell_type": "code",
   "execution_count": 26,
   "metadata": {},
   "outputs": [
    {
     "data": {
      "text/plain": [
       "(39774, 729)"
      ]
     },
     "execution_count": 26,
     "metadata": {},
     "output_type": "execute_result"
    }
   ],
   "source": [
    "t_matrix.shape"
   ]
  },
  {
   "cell_type": "code",
   "execution_count": 27,
   "metadata": {},
   "outputs": [
    {
     "data": {
      "text/plain": [
       "dtype('float64')"
      ]
     },
     "execution_count": 27,
     "metadata": {},
     "output_type": "execute_result"
    }
   ],
   "source": [
    "t_matrix.dtype"
   ]
  },
  {
   "cell_type": "markdown",
   "metadata": {},
   "source": [
    "We have quite a large matrix on hand. It is using 64bits (8 bytes) x 39774 x 729 = 221 MB.\\\n",
    "One way to reduce this dimension is to do some more cleaning using the earlier studies regarding ingredient frequencies and number of ingredients per recipe."
   ]
  },
  {
   "cell_type": "markdown",
   "metadata": {},
   "source": [
    "## 4. Modeling "
   ]
  },
  {
   "cell_type": "markdown",
   "metadata": {},
   "source": [
    "### 4.1 Naive Bayes\n",
    "NB is a common model used for text classification. Here a strong assumption is made where the features are conditionally independent given the class label. Before we load the model, we should encode the class labels, and split the data into train-test splits (80-20). \n",
    "\n",
    "Note that *multinomial NB* should be used here since we are dealing with discrete variables. Gaussian NB is more suitable for continuous variables which probabilities can be modeled using a Gaussian distribution. "
   ]
  },
  {
   "cell_type": "code",
   "execution_count": 28,
   "metadata": {},
   "outputs": [
    {
     "data": {
      "text/html": [
       "<div>\n",
       "<style scoped>\n",
       "    .dataframe tbody tr th:only-of-type {\n",
       "        vertical-align: middle;\n",
       "    }\n",
       "\n",
       "    .dataframe tbody tr th {\n",
       "        vertical-align: top;\n",
       "    }\n",
       "\n",
       "    .dataframe thead th {\n",
       "        text-align: right;\n",
       "    }\n",
       "</style>\n",
       "<table border=\"1\" class=\"dataframe\">\n",
       "  <thead>\n",
       "    <tr style=\"text-align: right;\">\n",
       "      <th></th>\n",
       "      <th>cuisine</th>\n",
       "      <th>ingredients</th>\n",
       "      <th>num_in</th>\n",
       "      <th>joined</th>\n",
       "      <th>encoded</th>\n",
       "    </tr>\n",
       "  </thead>\n",
       "  <tbody>\n",
       "    <tr>\n",
       "      <th>0</th>\n",
       "      <td>greek</td>\n",
       "      <td>[romaine lettuce, black olives, grape tomatoes...</td>\n",
       "      <td>9</td>\n",
       "      <td>romaine lettuce black olives grape tomatoes ga...</td>\n",
       "      <td>6</td>\n",
       "    </tr>\n",
       "    <tr>\n",
       "      <th>1</th>\n",
       "      <td>southern_us</td>\n",
       "      <td>[plain flour, ground pepper, salt, tomatoes, g...</td>\n",
       "      <td>11</td>\n",
       "      <td>plain flour ground pepper salt tomatoes ground...</td>\n",
       "      <td>16</td>\n",
       "    </tr>\n",
       "    <tr>\n",
       "      <th>2</th>\n",
       "      <td>filipino</td>\n",
       "      <td>[eggs, pepper, salt, mayonaise, cooking oil, g...</td>\n",
       "      <td>12</td>\n",
       "      <td>eggs pepper salt mayonaise cooking oil green c...</td>\n",
       "      <td>4</td>\n",
       "    </tr>\n",
       "    <tr>\n",
       "      <th>3</th>\n",
       "      <td>indian</td>\n",
       "      <td>[water, vegetable oil, wheat, salt]</td>\n",
       "      <td>4</td>\n",
       "      <td>water vegetable oil wheat salt</td>\n",
       "      <td>7</td>\n",
       "    </tr>\n",
       "    <tr>\n",
       "      <th>4</th>\n",
       "      <td>indian</td>\n",
       "      <td>[black pepper, shallots, cornflour, cayenne pe...</td>\n",
       "      <td>20</td>\n",
       "      <td>black pepper shallots cornflour cayenne pepper...</td>\n",
       "      <td>7</td>\n",
       "    </tr>\n",
       "  </tbody>\n",
       "</table>\n",
       "</div>"
      ],
      "text/plain": [
       "       cuisine                                        ingredients  num_in  \\\n",
       "0        greek  [romaine lettuce, black olives, grape tomatoes...       9   \n",
       "1  southern_us  [plain flour, ground pepper, salt, tomatoes, g...      11   \n",
       "2     filipino  [eggs, pepper, salt, mayonaise, cooking oil, g...      12   \n",
       "3       indian                [water, vegetable oil, wheat, salt]       4   \n",
       "4       indian  [black pepper, shallots, cornflour, cayenne pe...      20   \n",
       "\n",
       "                                              joined  encoded  \n",
       "0  romaine lettuce black olives grape tomatoes ga...        6  \n",
       "1  plain flour ground pepper salt tomatoes ground...       16  \n",
       "2  eggs pepper salt mayonaise cooking oil green c...        4  \n",
       "3                     water vegetable oil wheat salt        7  \n",
       "4  black pepper shallots cornflour cayenne pepper...        7  "
      ]
     },
     "execution_count": 28,
     "metadata": {},
     "output_type": "execute_result"
    }
   ],
   "source": [
    "from sklearn.preprocessing import LabelEncoder\n",
    "\n",
    "encoder = LabelEncoder()\n",
    "data['encoded'] = encoder.fit_transform(data.cuisine)\n",
    "data.head()"
   ]
  },
  {
   "cell_type": "code",
   "execution_count": 29,
   "metadata": {},
   "outputs": [],
   "source": [
    "from sklearn.model_selection import train_test_split\n",
    "\n",
    "X_train, X_test, y_train, y_test = train_test_split(t_matrix, data.encoded, test_size=0.2, stratify=data.encoded)"
   ]
  },
  {
   "cell_type": "code",
   "execution_count": 30,
   "metadata": {},
   "outputs": [],
   "source": [
    "from sklearn.naive_bayes import MultinomialNB\n",
    "\n",
    "mnb = MultinomialNB().fit(X_train, y_train)"
   ]
  },
  {
   "cell_type": "markdown",
   "metadata": {},
   "source": [
    "#### Model Validation\n",
    "We can first look at the accuracy scores."
   ]
  },
  {
   "cell_type": "code",
   "execution_count": 31,
   "metadata": {},
   "outputs": [
    {
     "name": "stdout",
     "output_type": "stream",
     "text": [
      "Accuracy MNB: 59.90%\n"
     ]
    }
   ],
   "source": [
    "from sklearn.metrics import accuracy_score\n",
    "\n",
    "y_pred_mnb = mnb.predict(X_test)\n",
    "accuracy_mnb = accuracy_score(y_test, y_pred_mnb)\n",
    "print(\"Accuracy MNB: %.2f%%\" % (accuracy_mnb * 100.0))"
   ]
  },
  {
   "cell_type": "markdown",
   "metadata": {},
   "source": [
    "### 4.2 Support Vector Machine\n",
    "SVM is another common model for text classification. Let's start with the linear kernel."
   ]
  },
  {
   "cell_type": "code",
   "execution_count": 32,
   "metadata": {},
   "outputs": [
    {
     "name": "stdout",
     "output_type": "stream",
     "text": [
      "Accuracy SVC: 66.12%\n"
     ]
    }
   ],
   "source": [
    "from sklearn.svm import LinearSVC\n",
    "svc = LinearSVC().fit(X_train, y_train)\n",
    "y_pred_svc = svc.predict(X_test)\n",
    "accuracy_svc = accuracy_score(y_test, y_pred_svc)\n",
    "print(\"Accuracy SVC: %.2f%%\" % (accuracy_svc * 100.0))"
   ]
  },
  {
   "cell_type": "markdown",
   "metadata": {},
   "source": [
    "## [Edit]\n",
    "Special thanks for Chris Kimber's explanation.\n",
    "## 5. Improved text preprocessing\n",
    "The plain text seems to be having troubles breaking the 70% mark. I suspect that the model themselves are as good as the input data that's fed into them. We must now clean the data properly. I will try using NLTK next."
   ]
  },
  {
   "cell_type": "code",
   "execution_count": 33,
   "metadata": {},
   "outputs": [],
   "source": [
    "ingredients = data.ingredients.copy()"
   ]
  },
  {
   "cell_type": "markdown",
   "metadata": {},
   "source": [
    "Here the puncutation and numbers are removed, and all letters are converted to lowercase. The text is then tokenized by vectorizing the text corpus. "
   ]
  },
  {
   "cell_type": "code",
   "execution_count": 34,
   "metadata": {},
   "outputs": [
    {
     "name": "stderr",
     "output_type": "stream",
     "text": [
      "[nltk_data] Downloading package punkt to\n",
      "[nltk_data]     C:\\Users\\chung\\AppData\\Roaming\\nltk_data...\n",
      "[nltk_data]   Package punkt is already up-to-date!\n",
      "[nltk_data] Error loading averaged_perception_tagger: Package\n",
      "[nltk_data]     'averaged_perception_tagger' not found in index\n"
     ]
    }
   ],
   "source": [
    "import re\n",
    "import nltk\n",
    "nltk.download('punkt')\n",
    "nltk.download('averaged_perception_tagger')\n",
    "from nltk.tokenize import word_tokenize\n",
    "\n",
    "def clean(text):\n",
    "    text = re.sub(\"((\\S+)?(http(s)?)(\\S+))|((\\S+)?(www)(\\S+))|((\\S+)?(\\@)(\\S+)?)\", \" \", text) #remove website related syntax\n",
    "    text = re.sub(\"[^a-zA-Z ]\", \"\", text) #retain only letters\n",
    "    text = text.lower() #lowercase text\n",
    "    text = word_tokenize(text)\n",
    "    return text"
   ]
  },
  {
   "cell_type": "code",
   "execution_count": 35,
   "metadata": {},
   "outputs": [
    {
     "data": {
      "text/plain": [
       "[[['romaine', 'lettuce'],\n",
       "  ['black', 'olives'],\n",
       "  ['grape', 'tomatoes'],\n",
       "  ['garlic'],\n",
       "  ['pepper'],\n",
       "  ['purple', 'onion'],\n",
       "  ['seasoning'],\n",
       "  ['garbanzo', 'beans'],\n",
       "  ['feta', 'cheese', 'crumbles']],\n",
       " [['plain', 'flour'],\n",
       "  ['ground', 'pepper'],\n",
       "  ['salt'],\n",
       "  ['tomatoes'],\n",
       "  ['ground', 'black', 'pepper'],\n",
       "  ['thyme'],\n",
       "  ['eggs'],\n",
       "  ['green', 'tomatoes'],\n",
       "  ['yellow', 'corn', 'meal'],\n",
       "  ['milk'],\n",
       "  ['vegetable', 'oil']]]"
      ]
     },
     "execution_count": 35,
     "metadata": {},
     "output_type": "execute_result"
    }
   ],
   "source": [
    "ingredients = [[clean(entry) for entry in recipe] for recipe in ingredients]\n",
    "ingredients[:2]"
   ]
  },
  {
   "cell_type": "markdown",
   "metadata": {},
   "source": [
    "Next, the parts of speech (POS) are tagged. Here we want to filter out most action verbs / instruction related adjectives (e.g. diced/sliced), but keep some descriptive words that are part of the core ingredient (e.g. baking soda). \n",
    "Here the following POS are excluded: check this [link](https://cs.nyu.edu/grishman/jet/guide/PennPOS.html)\\\n",
    "'VB': verb base, 'VBD': verb simple past, 'VBN': verb past participle, 'VBP': verb present tense, 'VBZ': verb 3rd singlar present, 'CC': Coordinating conjunction. \n",
    "\n",
    "Rading a tagged corpus involves reading tuples of ([word],[tag]). From here the preprocess steps follow exactly like Chris' notebook on the same topic."
   ]
  },
  {
   "cell_type": "code",
   "execution_count": 36,
   "metadata": {},
   "outputs": [],
   "source": [
    "ingredients_tagged = [[nltk.pos_tag(entry) for entry in recipe] for recipe in ingredients]\n",
    "excluded_tags = ['VB', 'VBD', 'VBN', 'VBP', 'VBZ', 'CC']\n",
    "ingredients_filtered = [[[t for t in tags if t[1] not in excluded_tags] for tags in recipe]for recipe in ingredients_tagged]"
   ]
  },
  {
   "cell_type": "markdown",
   "metadata": {},
   "source": [
    "The next step is to convert plural nouns and plural proper nouns to their singular counterparts. To achieve this, the lemmatizer is used on the words with 'NNS' and 'NNPS' POS tags."
   ]
  },
  {
   "cell_type": "code",
   "execution_count": 37,
   "metadata": {},
   "outputs": [
    {
     "name": "stderr",
     "output_type": "stream",
     "text": [
      "[nltk_data] Downloading package wordnet to\n",
      "[nltk_data]     C:\\Users\\chung\\AppData\\Roaming\\nltk_data...\n",
      "[nltk_data]   Package wordnet is already up-to-date!\n"
     ]
    }
   ],
   "source": [
    "from nltk.stem.wordnet import WordNetLemmatizer\n",
    "nltk.download('wordnet')\n",
    "lemmatizer = WordNetLemmatizer()\n",
    "\n",
    "def singular_nouns(t):\n",
    "    if t[1] in ['NNPS', 'NNS']:\n",
    "        return lemmatizer.lemmatize(t[0], pos = 'n')\n",
    "    else:\n",
    "        return t[0]\n",
    "\n",
    "ingredients_filtered = [[[singular_nouns(t) for t in tags] for tags in recipe] for recipe in ingredients_filtered]"
   ]
  },
  {
   "cell_type": "markdown",
   "metadata": {},
   "source": [
    "The final part of the cleaning involves removing stop words. These words are deemed to give no additional meaning to our purpose and appear quite frequently. Example of common stop words are articles like 'the', 'an', and 'a'. Here we choose a specific list of stop words for cooking. Thanks to Chris' Insight project, he already has a curated list."
   ]
  },
  {
   "cell_type": "code",
   "execution_count": 38,
   "metadata": {},
   "outputs": [
    {
     "name": "stderr",
     "output_type": "stream",
     "text": [
      "[nltk_data] Downloading package stopwords to\n",
      "[nltk_data]     C:\\Users\\chung\\AppData\\Roaming\\nltk_data...\n",
      "[nltk_data]   Package stopwords is already up-to-date!\n"
     ]
    }
   ],
   "source": [
    "nltk.download('stopwords')\n",
    "from nltk.corpus import stopwords\n",
    "stop_words = set(stopwords.words('english'))\n",
    "\n",
    "ingredients_filtered = [[[w for w in entry if not w in stop_words] for entry in recipe] for recipe in ingredients_filtered]\n",
    "\n",
    "# Omit weights and measures\n",
    "blacklist = ['ounce', 'ounces', 'cups', 'cup', 'teaspoon', 'tablespoon', 'tablespoons', 'teaspoons', 'c', 'g', 'v', 'tbsp', 'x', 'ml', 'lb', 'tbs', 'oz', 'pkg', 'large', 'small', 'tsp', 'inch', 'grams', 'quarts', 'lbs', 'can', 'cube', 'whole', 'or', 'pieces', 'piece', 'chopped', 'shredded', 'diced', 'fresh', 'crushed', 'tsp', 'package', 'kg', 'kilogram', 'gallon', 'degree', 'degrees', 'temperature', 'hot', 'warm', 'cold', 'boiling', 'lukewarm', 'f', 'c','slice', 'sliced', 'fresh', 'freshly', 'pound', 'pounds', 'thin', 'thinly', 'thick', 'thickly', 'coarsely', 'finely', 'jar', 'strip', 'strips', 'cut', 'peeled', 'wedge', 'bitesize', 'according', 'direction', 'optional', 'bite', 'size', 'half', 'pinch', 'dash', 'eg', 'frozen', 'thawed', 'recipe', 'fat', 'quart', 'quarts', 'pint', 'pints', 'splash', 'container', 'fried', 'cooked', 'uncooked', 'boiled', 'reduced', 'drained', 'water', 'one', 'washed', 'rinsed', 'pitted', 'head', 'tube', 'fluid', 'fl', 'preferably', 'bottle', 'diagonally', 'crosswise', 'lengthwise', 'torn', 'serving', 'bunch', 'halved', 'part', 'quartered', 'available', 'grocery', 'first', 'andor', 'substitution', 'bar']\n",
    "ingredients_clean = [[[w for w in entry if not w in blacklist] for entry in recipe] for recipe in ingredients_filtered]\n",
    "\n",
    "# Omit brands\n",
    "substrings = ['®', '™']\n",
    "ingredients_clean = [[[w for w in entry if not any(x in w for x in substrings)] for entry in recipe] for recipe in ingredients_clean]\n",
    "\n",
    "# Remove empty lists\n",
    "ingredients_clean = [[entry for entry in recipe if entry != [] ]for recipe in ingredients_clean]"
   ]
  },
  {
   "cell_type": "markdown",
   "metadata": {},
   "source": [
    "To recap, we have a master list of recipes, which contains lists of ingredients as lists. The final layer of lists represents the n-grams of ingredients. The final step here is to join these n-grams with underscores, and join these individial ingredients lists back to one list."
   ]
  },
  {
   "cell_type": "code",
   "execution_count": 39,
   "metadata": {},
   "outputs": [
    {
     "data": {
      "text/plain": [
       "[[['romaine', 'lettuce'],\n",
       "  ['black', 'olive'],\n",
       "  ['grape', 'tomato'],\n",
       "  ['garlic'],\n",
       "  ['pepper'],\n",
       "  ['purple', 'onion'],\n",
       "  ['seasoning'],\n",
       "  ['garbanzo', 'bean'],\n",
       "  ['feta', 'cheese', 'crumbles']],\n",
       " [['plain', 'flour'],\n",
       "  ['ground', 'pepper'],\n",
       "  ['salt'],\n",
       "  ['tomato'],\n",
       "  ['ground', 'black', 'pepper'],\n",
       "  ['thyme'],\n",
       "  ['egg'],\n",
       "  ['green', 'tomato'],\n",
       "  ['yellow', 'corn', 'meal'],\n",
       "  ['milk'],\n",
       "  ['vegetable', 'oil']]]"
      ]
     },
     "execution_count": 39,
     "metadata": {},
     "output_type": "execute_result"
    }
   ],
   "source": [
    "ingredients_clean[:2]"
   ]
  },
  {
   "cell_type": "code",
   "execution_count": 40,
   "metadata": {},
   "outputs": [],
   "source": [
    "ingredients_processed = [','.join(['_'.join(ingredient) for ingredient in recipe]) for recipe in ingredients_clean]"
   ]
  },
  {
   "cell_type": "code",
   "execution_count": 45,
   "metadata": {},
   "outputs": [
    {
     "data": {
      "text/plain": [
       "['romaine_lettuce, black_olive, grape_tomato, garlic, pepper, purple_onion, seasoning, garbanzo_bean, feta_cheese_crumbles',\n",
       " 'plain_flour, ground_pepper, salt, tomato, ground_black_pepper, thyme, egg, green_tomato, yellow_corn_meal, milk, vegetable_oil',\n",
       " 'egg, pepper, salt, mayonaise, cooking_oil, green_chilies, chicken_breast, garlic_powder, yellow_onion, soy_sauce, butter, chicken_liver',\n",
       " 'vegetable_oil, wheat, salt',\n",
       " 'black_pepper, shallot, cornflour, cayenne_pepper, onion, garlic_paste, milk, butter, salt, lemon_juice, chili_powder, passata, oil, ground_cumin, boneless_chicken_skinless_thigh, garam_masala, double_cream, natural_yogurt, bay_leaf']"
      ]
     },
     "execution_count": 45,
     "metadata": {},
     "output_type": "execute_result"
    }
   ],
   "source": [
    "ingredients_processed[:5]"
   ]
  },
  {
   "cell_type": "code",
   "execution_count": 46,
   "metadata": {},
   "outputs": [
    {
     "data": {
      "text/plain": [
       "39774"
      ]
     },
     "execution_count": 46,
     "metadata": {},
     "output_type": "execute_result"
    }
   ],
   "source": [
    "len(ingredients_processed)"
   ]
  },
  {
   "cell_type": "markdown",
   "metadata": {},
   "source": [
    "## 6. New models with improved preprocessed text\n"
   ]
  },
  {
   "cell_type": "code",
   "execution_count": 50,
   "metadata": {},
   "outputs": [
    {
     "name": "stdout",
     "output_type": "stream",
     "text": [
      "Accuracy MNB with improved text: 69.79%\n"
     ]
    }
   ],
   "source": [
    "X = ingredients_processed\n",
    "y = data.cuisine\n",
    "X_train, X_test, y_train, y_test = train_test_split(X, y, test_size=0.2, stratify=y)\n",
    "vectorizer = TfidfVectorizer(min_df = 5)\n",
    "vectorizer.fit(X_train)\n",
    "X_train_t = vectorizer.transform(X_train)\n",
    "X_test_t = vectorizer.transform(X_test)\n",
    "clf = MultinomialNB()\n",
    "clf.fit(X_train_t, y_train)\n",
    "y_pred = clf.predict(X_test_t)\n",
    "accuracy = accuracy_score(y_pred, y_test)\n",
    "print(\"Accuracy MNB with improved text: %.2f%%\" % (accuracy * 100.0))"
   ]
  },
  {
   "cell_type": "markdown",
   "metadata": {},
   "source": [
    "Here Chris recommends trying the SGD classifier. "
   ]
  },
  {
   "cell_type": "code",
   "execution_count": 52,
   "metadata": {},
   "outputs": [
    {
     "name": "stdout",
     "output_type": "stream",
     "text": [
      "Accuracy MNB with improved text: 77.16%\n"
     ]
    }
   ],
   "source": [
    "from sklearn.linear_model import SGDClassifier\n",
    "\n",
    "clf = SGDClassifier()\n",
    "clf.fit(X_train_t, y_train)\n",
    "y_pred = clf.predict(X_test_t)\n",
    "accuracy = accuracy_score(y_pred, y_test)\n",
    "print(\"Accuracy MNB with improved text: %.2f%%\" % (accuracy * 100.0))"
   ]
  },
  {
   "cell_type": "markdown",
   "metadata": {},
   "source": [
    "## 7. Insights\n",
    "Let's extract some insight from the confusion matrix."
   ]
  },
  {
   "cell_type": "code",
   "execution_count": 53,
   "metadata": {},
   "outputs": [
    {
     "data": {
      "text/plain": [
       "<matplotlib.axes._subplots.AxesSubplot at 0x1710e7d40f0>"
      ]
     },
     "execution_count": 53,
     "metadata": {},
     "output_type": "execute_result"
    },
    {
     "data": {
      "image/png": "[encoded data removed]",
      "text/plain": [
       "<Figure size 1080x1080 with 2 Axes>"
      ]
     },
     "metadata": {
      "needs_background": "light"
     },
     "output_type": "display_data"
    }
   ],
   "source": [
    "from sklearn.metrics import confusion_matrix\n",
    "\n",
    "cm = confusion_matrix(y_test, y_pred)\n",
    "plt.figure(figsize=(15,15))\n",
    "sns.heatmap(pd.DataFrame(cm, index=encoder.classes_, \n",
    "                         columns=encoder.classes_,),\n",
    "                         annot=True)"
   ]
  },
  {
   "cell_type": "markdown",
   "metadata": {},
   "source": [
    "I am running out of time at this point. Let's recap the 3 tasks.\n",
    "\n",
    "### 1) We want to predict the cuisine of a recipe given only its ingredients. \n",
    "Using sklearn's linearSVC, we are able to predict with 66% accuracy. Given more time, I will investigate a) further work with feature engineering such as varying the number of ingredients and minimum frequency, b) the use of cross validation, and c) the use of deep learning methods. \n",
    "\n",
    "Edit: After text preprocessing and using a SVM-based classifier trained with SGD, the testing accuracy went up from merely 60% to 77%. "
   ]
  },
  {
   "cell_type": "markdown",
   "metadata": {},
   "source": [
    "### 2) For each each major cuisine, what are the driving ingredients that characterize it?\n",
    "This can be found with topic modelling techniques such as LDA (but it's unsupervised). we can also look at the trained model coefficients and see which ingredients have the largest weights for each cuisine. Here we see the top 5 ingredients for each cuisine."
   ]
  },
  {
   "cell_type": "code",
   "execution_count": 58,
   "metadata": {},
   "outputs": [],
   "source": [
    "def print_top5(vectorizer, clf, class_labels):\n",
    "    \"\"\"Prints features with the highest coefficient values, per class\"\"\"\n",
    "    feature_names = vectorizer.get_feature_names()\n",
    "    for i, class_label in enumerate(class_labels):\n",
    "        top10 = np.argsort(clf.coef_[i])[-5:]\n",
    "        print(\"%12s: %s\" % (class_label,\n",
    "              \" \".join(feature_names[j] for j in top10)))"
   ]
  },
  {
   "cell_type": "code",
   "execution_count": 59,
   "metadata": {},
   "outputs": [
    {
     "name": "stdout",
     "output_type": "stream",
     "text": [
      "   brazilian: palm_oil aai manioc chocolate_sprinkle cachaca\n",
      "     british: golden_syrup marmite beef_dripping suet stilton_cheese\n",
      "cajun_creole: red_bean celery andouille_sausage creole_seasoning cajun_seasoning\n",
      "     chinese: chinese_rice_wine corn_starch hoisin_sauce szechwan_peppercorn chinese_fivespice_powder\n",
      "    filipino: peppercorn lumpia_skin calamansi calamansi_juice lumpia_wrapper\n",
      "      french: nioise_olive swiss_cheese cognac gruyre_cheese gruyere_cheese\n",
      "       greek: grape_leaf greek_yogurt greek_seasoning feta_cheese feta_cheese_crumbles\n",
      "      indian: plain_yogurt ground_cardamom yoghurt curry_powder garam_masala\n",
      "       irish: beef_brisket irish_bacon irish_cream_liqueur guinness_beer irish_whiskey\n",
      "     italian: arborio_rice italian_seasoning marsala ricotta_cheese parmesan_cheese\n",
      "    jamaican: allspice scotch_bonnet_chile ground_allspice jamaican_jerk_season thyme\n",
      "    japanese: soba_noodle dashi nori sake mirin\n",
      "      korean: beef_rib_short asian_pear sesame_seed kimchi gochujang_base\n",
      "     mexican: tortilla salsa tequila corn_tortilla flour_tortilla\n",
      "    moroccan: ground_cumin green_tea harissa ra_hanout couscous\n",
      "     russian: sauerkraut sour_cream dill farmer_cheese beet\n",
      " southern_us: buttermilk bourbon_whiskey quickcooking_grit collard_green grit\n",
      "     spanish: sherry_vinegar spanish_paprika manchego_cheese serrano_ham spanish_chorizo\n",
      "        thai: thai_green_curry_paste palm_sugar red_curry_paste thai_fish_sauce thai_red_curry_paste\n",
      "  vietnamese: vietnamese_coriander rice_paper rice_vermicelli fish_sauce vietnamese_fish_sauce\n"
     ]
    }
   ],
   "source": [
    "print_top5(vectorizer=vectorizer, clf=clf, class_labels=clf.classes_)"
   ]
  },
  {
   "cell_type": "markdown",
   "metadata": {},
   "source": [
    "### 3) How would you go about writing this guide for a few major cuisines?\n",
    "Given the confusion matrix, we can see a few major cluster of cuisines that use similar ingredients, such as the south Asian (chinese, thai, vietnamese) and Mexican-Southern_US-Cajun_creole. I think tht this guide would start with clustering the remaining recipes into one of these bigger major cuisine groups, then within those groups, use the ingredients that are unique to certain cuisines to label them."
   ]
  }
 ],
 "metadata": {
  "kernelspec": {
   "display_name": "Python 3",
   "language": "python",
   "name": "python3"
  },
  "language_info": {
   "codemirror_mode": {
    "name": "ipython",
    "version": 3
   },
   "file_extension": ".py",
   "mimetype": "text/x-python",
   "name": "python",
   "nbconvert_exporter": "python",
   "pygments_lexer": "ipython3",
   "version": "3.7.3"
  }
 },
 "nbformat": 4,
 "nbformat_minor": 4
}
