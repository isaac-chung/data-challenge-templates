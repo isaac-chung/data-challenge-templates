{
 "cells": [
  {
   "cell_type": "markdown",
   "metadata": {},
   "source": [
    "# Apples 2 Audiences\n",
    "\n",
    "Data Challenge: August 3, 2020\\\n",
    "Candidate: Isaac Chung\\\n",
    "Time alloted: 4 hours\\\n",
    "Task: We want to reorganize the layout of our store to maximize sales. to do that, we would like to know if we can cluster types of groceries that are typically purchased together. What items do you recommend that we place together? Please return a clearly laid out notebook with explanations on your choices and clearly listed functions. You can use any clustering method you'd like."
   ]
  },
  {
   "cell_type": "code",
   "execution_count": 1,
   "metadata": {},
   "outputs": [],
   "source": [
    "import pandas as pd\n",
    "import numpy as np\n",
    "import seaborn as sns\n",
    "\n",
    "import matplotlib.pyplot as plt\n",
    "%matplotlib inline"
   ]
  },
  {
   "cell_type": "markdown",
   "metadata": {},
   "source": [
    "## 0. Import data\n",
    "First let's import the data set, and see what's inside. Data is given in 3 csv files. Let's use pandas' read_csv function."
   ]
  },
  {
   "cell_type": "code",
   "execution_count": 2,
   "metadata": {},
   "outputs": [],
   "source": [
    "items = pd.read_csv('items.csv')\n",
    "users = pd.read_csv('users.csv')\n",
    "users_by_items = pd.read_csv('users_by_items.csv')"
   ]
  },
  {
   "cell_type": "markdown",
   "metadata": {},
   "source": [
    "### 0.1 Items\n",
    "There are a total of 48 items. They all have their own item IDs and prices. A quick check shows no duplicates."
   ]
  },
  {
   "cell_type": "code",
   "execution_count": 3,
   "metadata": {},
   "outputs": [
    {
     "name": "stdout",
     "output_type": "stream",
     "text": [
      "          item_name  price\n",
      "Item_id                   \n",
      "1             sugar      2\n",
      "2           lettuce      1\n",
      "3         pet items      2\n",
      "4        baby items      4\n",
      "5           waffles      2\n",
      "<class 'pandas.core.frame.DataFrame'>\n",
      "Int64Index: 48 entries, 1 to 48\n",
      "Data columns (total 2 columns):\n",
      " #   Column     Non-Null Count  Dtype \n",
      "---  ------     --------------  ----- \n",
      " 0   item_name  48 non-null     object\n",
      " 1   price      48 non-null     int64 \n",
      "dtypes: int64(1), object(1)\n",
      "memory usage: 1.1+ KB\n",
      "None\n"
     ]
    }
   ],
   "source": [
    "items = items.set_index('Item_id')\n",
    "print(items.head())\n",
    "print(items.info())"
   ]
  },
  {
   "cell_type": "code",
   "execution_count": 4,
   "metadata": {},
   "outputs": [
    {
     "data": {
      "text/plain": [
       "0"
      ]
     },
     "execution_count": 4,
     "metadata": {},
     "output_type": "execute_result"
    }
   ],
   "source": [
    "items.duplicated().sum()"
   ]
  },
  {
   "cell_type": "markdown",
   "metadata": {},
   "source": [
    "### 0.2 Users\n",
    "There are a total of 39474 items. They all have their own user IDs and items bought. A quick check shows 14589 duplicates for the user_id column, which means there are repeating customers. This dataset shows the transactions. "
   ]
  },
  {
   "cell_type": "code",
   "execution_count": 5,
   "metadata": {},
   "outputs": [
    {
     "name": "stdout",
     "output_type": "stream",
     "text": [
      "   user_id                                                 id\n",
      "0   222087                                              27,26\n",
      "1  1343649                                            6,47,17\n",
      "2   404134                       18,12,23,22,27,43,38,20,35,1\n",
      "3  1110200                                 9,23,2,20,26,47,37\n",
      "4   224107  31,18,5,13,1,21,48,16,26,2,44,32,20,37,42,35,4...\n",
      "<class 'pandas.core.frame.DataFrame'>\n",
      "RangeIndex: 39474 entries, 0 to 39473\n",
      "Data columns (total 2 columns):\n",
      " #   Column   Non-Null Count  Dtype \n",
      "---  ------   --------------  ----- \n",
      " 0   user_id  39474 non-null  int64 \n",
      " 1   id       39474 non-null  object\n",
      "dtypes: int64(1), object(1)\n",
      "memory usage: 616.9+ KB\n",
      "None\n"
     ]
    }
   ],
   "source": [
    "print(users.head())\n",
    "print(users.info())"
   ]
  },
  {
   "cell_type": "code",
   "execution_count": 6,
   "metadata": {},
   "outputs": [
    {
     "data": {
      "text/plain": [
       "14589"
      ]
     },
     "execution_count": 6,
     "metadata": {},
     "output_type": "execute_result"
    }
   ],
   "source": [
    "users.user_id.duplicated().sum()"
   ]
  },
  {
   "cell_type": "markdown",
   "metadata": {},
   "source": [
    "### 0.3 Users by items\n",
    "There are a total of 24885 rows, which confirms our finding in the last csv file. Here the unique user_id is paired with the total purchases of each item. "
   ]
  },
  {
   "cell_type": "code",
   "execution_count": 7,
   "metadata": {},
   "outputs": [
    {
     "name": "stdout",
     "output_type": "stream",
     "text": [
      "   user_id  1  2  3  4  5  6  7  8  9  ...  39  40  41  42  43  44  45  46  \\\n",
      "0   100002  0  0  0  0  0  0  0  0  0  ...   0   0   0   1   0   0   1   0   \n",
      "1  1000074  0  1  0  0  0  0  1  1  0  ...   1   2   0   0   1   0   1   1   \n",
      "2   100009  1  0  0  0  0  1  0  0  1  ...   2   0   1   0   0   0   1   0   \n",
      "3  1000096  0  0  0  0  0  0  0  0  0  ...   1   0   1   0   1   0   0   0   \n",
      "4  1000103  0  1  0  0  0  2  0  1  1  ...   2   1   0   1   1   2   1   1   \n",
      "\n",
      "   47  48  \n",
      "0   0   0  \n",
      "1   0   1  \n",
      "2   0   0  \n",
      "3   0   0  \n",
      "4   0   1  \n",
      "\n",
      "[5 rows x 49 columns]\n",
      "<class 'pandas.core.frame.DataFrame'>\n",
      "RangeIndex: 24885 entries, 0 to 24884\n",
      "Data columns (total 49 columns):\n",
      " #   Column   Non-Null Count  Dtype\n",
      "---  ------   --------------  -----\n",
      " 0   user_id  24885 non-null  int64\n",
      " 1   1        24885 non-null  int64\n",
      " 2   2        24885 non-null  int64\n",
      " 3   3        24885 non-null  int64\n",
      " 4   4        24885 non-null  int64\n",
      " 5   5        24885 non-null  int64\n",
      " 6   6        24885 non-null  int64\n",
      " 7   7        24885 non-null  int64\n",
      " 8   8        24885 non-null  int64\n",
      " 9   9        24885 non-null  int64\n",
      " 10  10       24885 non-null  int64\n",
      " 11  11       24885 non-null  int64\n",
      " 12  12       24885 non-null  int64\n",
      " 13  13       24885 non-null  int64\n",
      " 14  14       24885 non-null  int64\n",
      " 15  15       24885 non-null  int64\n",
      " 16  16       24885 non-null  int64\n",
      " 17  17       24885 non-null  int64\n",
      " 18  18       24885 non-null  int64\n",
      " 19  19       24885 non-null  int64\n",
      " 20  20       24885 non-null  int64\n",
      " 21  21       24885 non-null  int64\n",
      " 22  22       24885 non-null  int64\n",
      " 23  23       24885 non-null  int64\n",
      " 24  24       24885 non-null  int64\n",
      " 25  25       24885 non-null  int64\n",
      " 26  26       24885 non-null  int64\n",
      " 27  27       24885 non-null  int64\n",
      " 28  28       24885 non-null  int64\n",
      " 29  29       24885 non-null  int64\n",
      " 30  30       24885 non-null  int64\n",
      " 31  31       24885 non-null  int64\n",
      " 32  32       24885 non-null  int64\n",
      " 33  33       24885 non-null  int64\n",
      " 34  34       24885 non-null  int64\n",
      " 35  35       24885 non-null  int64\n",
      " 36  36       24885 non-null  int64\n",
      " 37  37       24885 non-null  int64\n",
      " 38  38       24885 non-null  int64\n",
      " 39  39       24885 non-null  int64\n",
      " 40  40       24885 non-null  int64\n",
      " 41  41       24885 non-null  int64\n",
      " 42  42       24885 non-null  int64\n",
      " 43  43       24885 non-null  int64\n",
      " 44  44       24885 non-null  int64\n",
      " 45  45       24885 non-null  int64\n",
      " 46  46       24885 non-null  int64\n",
      " 47  47       24885 non-null  int64\n",
      " 48  48       24885 non-null  int64\n",
      "dtypes: int64(49)\n",
      "memory usage: 9.3 MB\n",
      "None\n"
     ]
    }
   ],
   "source": [
    "print(users_by_items.head())\n",
    "print(users_by_items.info())"
   ]
  },
  {
   "cell_type": "markdown",
   "metadata": {},
   "source": [
    "## 1. Exploratory Data Analysis\n",
    "Let's first explore the data we have on hand. I begin by looking at the top 15 most bought items."
   ]
  },
  {
   "cell_type": "code",
   "execution_count": 8,
   "metadata": {},
   "outputs": [],
   "source": [
    "most_bought = users_by_items.sum(axis=0).nlargest(15)"
   ]
  },
  {
   "cell_type": "code",
   "execution_count": 9,
   "metadata": {},
   "outputs": [
    {
     "data": {
      "text/plain": [
       "user_id    18685880131\n",
       "2                14473\n",
       "1                 9119\n",
       "42                9050\n",
       "25                9019\n",
       "32                9008\n",
       "44                8980\n",
       "20                8951\n",
       "46                8921\n",
       "45                8902\n",
       "40                8878\n",
       "10                8859\n",
       "9                 8816\n",
       "38                8814\n",
       "43                8784\n",
       "dtype: int64"
      ]
     },
     "execution_count": 9,
     "metadata": {},
     "output_type": "execute_result"
    }
   ],
   "source": [
    "most_bought"
   ]
  },
  {
   "cell_type": "code",
   "execution_count": 10,
   "metadata": {},
   "outputs": [
    {
     "name": "stdout",
     "output_type": "stream",
     "text": [
      "['2', '1', '42', '25', '32', '44', '20', '46', '45', '40', '10', '9', '38', '43']\n"
     ]
    }
   ],
   "source": [
    "most_bought_items = list(most_bought.index)\n",
    "most_bought_items.pop(0)\n",
    "print(most_bought_items)"
   ]
  },
  {
   "cell_type": "markdown",
   "metadata": {},
   "source": [
    "To help read the item codes, we want a dictionary that converts item id to item names."
   ]
  },
  {
   "cell_type": "code",
   "execution_count": 11,
   "metadata": {},
   "outputs": [],
   "source": [
    "items_names = items.drop('price',axis=1).to_dict()"
   ]
  },
  {
   "cell_type": "code",
   "execution_count": 12,
   "metadata": {},
   "outputs": [
    {
     "name": "stdout",
     "output_type": "stream",
     "text": [
      "['lettuce', 'sugar', 'cucumbers', 'cherries', 'apples', 'broccoli', 'grapefruit', 'bananas', 'cauliflower', 'berries', 'carrots', 'soda', 'juice', 'coffee']\n"
     ]
    }
   ],
   "source": [
    "mb = []\n",
    "for item in most_bought_items:\n",
    "    mb.append(items_names['item_name'][int(item)])\n",
    "print(mb)"
   ]
  },
  {
   "cell_type": "markdown",
   "metadata": {},
   "source": [
    "## 2. Clustering\n",
    "As a first step, I am going to try minibatch K-means clustering to save time compared to K-means. "
   ]
  },
  {
   "cell_type": "code",
   "execution_count": 13,
   "metadata": {},
   "outputs": [],
   "source": [
    "from sklearn.cluster import MiniBatchKMeans\n",
    "from time import time\n",
    "\n",
    "X = users_by_items.drop('user_id',axis=1)"
   ]
  },
  {
   "cell_type": "code",
   "execution_count": 14,
   "metadata": {},
   "outputs": [
    {
     "name": "stdout",
     "output_type": "stream",
     "text": [
      "Time taken to run MiniBatchKMeans 3.31 seconds\n"
     ]
    }
   ],
   "source": [
    "t0 = time()\n",
    "wcss = []\n",
    "for i in range(1,20):\n",
    "    mbk = MiniBatchKMeans(init='k-means++', n_clusters=i, batch_size=100,\n",
    "                      n_init=10, max_no_improvement=10, verbose=0,\n",
    "                      random_state=0)\n",
    "    mbk.fit(X)\n",
    "    wcss.append(mbk.inertia_)\n",
    "t_mini_batch = time() - t0\n",
    "print(\"Time taken to run MiniBatchKMeans %0.2f seconds\" % t_mini_batch)"
   ]
  },
  {
   "cell_type": "markdown",
   "metadata": {},
   "source": [
    "The goal of varying the `n_clusters` parameter is to find the optimal number of clusters by using the elbow method. Here we’ll consider the total intra-cluster variation (or total within-cluster sum of square (WSS)), and we’ll try to minimize it. \n",
    "\n",
    "The bend of the plot indicates the appropriate number of clusters. Here we can choose `n_clusters=5`."
   ]
  },
  {
   "cell_type": "code",
   "execution_count": 15,
   "metadata": {},
   "outputs": [
    {
     "data": {
      "image/png": "[encoded data removed]",
      "text/plain": [
       "<Figure size 432x288 with 1 Axes>"
      ]
     },
     "metadata": {
      "needs_background": "light"
     },
     "output_type": "display_data"
    }
   ],
   "source": [
    "plt.plot(range(1,20), wcss, c=\"#c51b7d\")\n",
    "plt.gca().spines[\"top\"].set_visible(False)\n",
    "plt.gca().spines[\"right\"].set_visible(False)\n",
    "plt.title('Elbow Method', size=14)\n",
    "plt.xlabel('Number of clusters', size=12)\n",
    "plt.ylabel('wcss', size=14)\n",
    "plt.show() "
   ]
  },
  {
   "cell_type": "code",
   "execution_count": 16,
   "metadata": {},
   "outputs": [
    {
     "data": {
      "text/plain": [
       "MiniBatchKMeans(n_clusters=5, n_init=10, random_state=0)"
      ]
     },
     "execution_count": 16,
     "metadata": {},
     "output_type": "execute_result"
    }
   ],
   "source": [
    "mbk = MiniBatchKMeans(init='k-means++', n_clusters=5, batch_size=100,\n",
    "                      n_init=10, max_no_improvement=10, verbose=0,\n",
    "                      random_state=0)\n",
    "mbk.fit(users_by_items)"
   ]
  },
  {
   "cell_type": "markdown",
   "metadata": {},
   "source": [
    "For clustering methods, the higher silhouette score the better. "
   ]
  },
  {
   "cell_type": "code",
   "execution_count": 17,
   "metadata": {},
   "outputs": [
    {
     "name": "stdout",
     "output_type": "stream",
     "text": [
      "Silhouette score of k-means clustering: -0.0018838646446956294\n"
     ]
    }
   ],
   "source": [
    "from sklearn.metrics import silhouette_score\n",
    "print(\"Silhouette score of k-means clustering: {}\".format(silhouette_score(X, mbk.labels_)))"
   ]
  },
  {
   "cell_type": "code",
   "execution_count": 18,
   "metadata": {},
   "outputs": [
    {
     "data": {
      "text/plain": [
       "(24885,)"
      ]
     },
     "execution_count": 18,
     "metadata": {},
     "output_type": "execute_result"
    }
   ],
   "source": [
    "mbk.labels_.shape"
   ]
  },
  {
   "cell_type": "code",
   "execution_count": 19,
   "metadata": {},
   "outputs": [
    {
     "data": {
      "text/plain": [
       "MiniBatchKMeans(n_clusters=5, n_init=10, random_state=0)"
      ]
     },
     "execution_count": 19,
     "metadata": {},
     "output_type": "execute_result"
    }
   ],
   "source": [
    "mbk.fit(X.transpose())"
   ]
  },
  {
   "cell_type": "code",
   "execution_count": 20,
   "metadata": {},
   "outputs": [
    {
     "data": {
      "text/plain": [
       "(48,)"
      ]
     },
     "execution_count": 20,
     "metadata": {},
     "output_type": "execute_result"
    }
   ],
   "source": [
    "mbk.labels_.shape"
   ]
  },
  {
   "cell_type": "code",
   "execution_count": 21,
   "metadata": {},
   "outputs": [
    {
     "name": "stdout",
     "output_type": "stream",
     "text": [
      "Silhouette score of k-means clustering: -0.026096560572054173\n"
     ]
    }
   ],
   "source": [
    "print(\"Silhouette score of k-means clustering: {}\".format(silhouette_score(X.transpose(), mbk.labels_)))"
   ]
  },
  {
   "cell_type": "markdown",
   "metadata": {},
   "source": [
    "## 3. Topic Modelling\n",
    "I was struggling with interpreting the model in the context of the data. Now I'm pivoting towards solving this clustering problem as a NLP topic modelling type problem. \n",
    "\n",
    "The given `users_by_items` matrix can be viewed as the output of corpus (purchases) being fed through the count vectorizer. Here we can use the following mapping for the terminology used in the two problems:\\\n",
    "1) Feature names: these are unique items -> unique shopping items\\\n",
    "2) Line/document -> each shopper/user\n",
    "\n",
    "Here is a toy example from [sklearn](https://scikit-learn.org/stable/modules/generated/sklearn.feature_extraction.text.CountVectorizer.html#sklearn.feature_extraction.text.CountVectorizer)."
   ]
  },
  {
   "cell_type": "code",
   "execution_count": 22,
   "metadata": {},
   "outputs": [],
   "source": [
    "from sklearn.feature_extraction.text import CountVectorizer\n",
    "corpus = [\n",
    "            'This is the first document.',\n",
    "            'This document is the second document.',\n",
    "            'And this is the third one.',\n",
    "            'Is this the first document?',\n",
    "]\n",
    "vectorizer = CountVectorizer()\n",
    "X = vectorizer.fit_transform(corpus)"
   ]
  },
  {
   "cell_type": "markdown",
   "metadata": {},
   "source": [
    "Here we see the similarity between the count matrix and the `users_by_items` matrix."
   ]
  },
  {
   "cell_type": "code",
   "execution_count": 23,
   "metadata": {},
   "outputs": [
    {
     "name": "stdout",
     "output_type": "stream",
     "text": [
      "['and', 'document', 'first', 'is', 'one', 'second', 'the', 'third', 'this']\n",
      "[[0 1 1 1 0 0 1 0 1]\n",
      " [0 2 0 1 0 1 1 0 1]\n",
      " [1 0 0 1 1 0 1 1 1]\n",
      " [0 1 1 1 0 0 1 0 1]]\n"
     ]
    }
   ],
   "source": [
    "print(vectorizer.get_feature_names())\n",
    "print(X.toarray())"
   ]
  },
  {
   "cell_type": "markdown",
   "metadata": {},
   "source": [
    "In both problems, the items (words) order does not matter. We can use this fact to build a bag-of-words (BOW) model (here more so a bag-of-items), and use a topic modelling technique (such as LDA) to cluster the items. One can use sklearn's LDA module. \n",
    "\n",
    "Given more time, we can choose to use Gensim's in-built LDA model and use pyLDAvis to visualize these topics and their associates key words/n_grams."
   ]
  },
  {
   "cell_type": "code",
   "execution_count": 24,
   "metadata": {},
   "outputs": [],
   "source": [
    "import gensim\n",
    "import gensim.corpora as corpora\n",
    "from gensim.utils import simple_preprocess\n",
    "from gensim.models import CoherenceModel\n",
    "from gensim.corpora.dictionary import Dictionary\n",
    "\n",
    "import pyLDAvis\n",
    "import pyLDAvis.gensim\n",
    "\n",
    "from scipy import sparse"
   ]
  },
  {
   "cell_type": "markdown",
   "metadata": {},
   "source": [
    "### LDA: 5 topics\n",
    "We use Latent Dirichlet Allocation (LDA), an unsupervised generative model that assigns topic distributions to documents. Here we want it to assign item distributions to transactions. From the Elbow plot above, let's start with 5 topics/clusters."
   ]
  },
  {
   "cell_type": "code",
   "execution_count": 25,
   "metadata": {},
   "outputs": [],
   "source": [
    "from time import time\n",
    "from sklearn.decomposition import LatentDirichletAllocation\n",
    "lda = LatentDirichletAllocation(n_components=5, learning_method=\"online\",\n",
    "                                max_iter=10, random_state=0, n_jobs=3, \n",
    "                                verbose=0)"
   ]
  },
  {
   "cell_type": "code",
   "execution_count": 26,
   "metadata": {},
   "outputs": [],
   "source": [
    "data = users_by_items.drop('user_id',axis=1)\n",
    "sX = sparse.csr_matrix(data)"
   ]
  },
  {
   "cell_type": "markdown",
   "metadata": {},
   "source": [
    "The following fit_transform function call takes a bit of time."
   ]
  },
  {
   "cell_type": "code",
   "execution_count": 27,
   "metadata": {},
   "outputs": [
    {
     "name": "stdout",
     "output_type": "stream",
     "text": [
      "LDA with 5 topics took 94.4 seconds.\n"
     ]
    }
   ],
   "source": [
    "start = time()\n",
    "topics = lda.fit_transform(sX)\n",
    "print('LDA with 5 topics took %.1f seconds.' %(time()-start))"
   ]
  },
  {
   "cell_type": "code",
   "execution_count": 28,
   "metadata": {},
   "outputs": [
    {
     "data": {
      "text/plain": [
       "(24885, 5)"
      ]
     },
     "execution_count": 28,
     "metadata": {},
     "output_type": "execute_result"
    }
   ],
   "source": [
    "topics.shape"
   ]
  },
  {
   "cell_type": "markdown",
   "metadata": {},
   "source": [
    "Here I'm sorting the components (i.e. the features/items) per topic in descending importance."
   ]
  },
  {
   "cell_type": "code",
   "execution_count": 29,
   "metadata": {},
   "outputs": [],
   "source": [
    "sorting = np.argsort(lda.components_, axis=1)[:, ::-1]"
   ]
  },
  {
   "cell_type": "markdown",
   "metadata": {},
   "source": [
    "We see this variable gives lists of item ids. Let's convert them into item names."
   ]
  },
  {
   "cell_type": "code",
   "execution_count": 30,
   "metadata": {},
   "outputs": [
    {
     "data": {
      "text/plain": [
       "array([[42, 37,  8, 22,  1, 14,  5, 16, 46, 43, 12,  9, 38, 44, 41, 33,\n",
       "        36, 23,  0,  6, 32,  2, 30, 35, 21, 17, 29, 26,  3, 10, 28, 13,\n",
       "        11, 27, 18, 40, 20, 45, 24, 31,  7, 39, 19, 47,  4, 25, 15, 34],\n",
       "       [20, 47, 15,  7, 13, 12, 38, 36, 33,  1,  0, 44, 41,  9, 43,  2,\n",
       "        21, 35, 26, 40, 27, 17, 25,  3, 30, 18,  4, 23,  8, 42, 22, 37,\n",
       "        28, 32,  5,  6, 46, 11, 16, 39, 34, 31, 45, 24, 14, 19, 29, 10],\n",
       "       [24, 39, 19, 31, 45, 36, 38, 33, 12,  8,  1, 42, 22, 37,  0,  2,\n",
       "        21, 35, 26, 17, 30, 40, 29,  4, 32, 27,  9, 43, 41, 34, 44, 23,\n",
       "        18,  6, 25, 28, 11, 13, 47, 14, 15,  7, 46,  5, 20,  3, 10, 16],\n",
       "       [25, 27, 34, 11, 40, 42, 18, 46,  5, 28,  0, 22, 37, 16, 10,  8,\n",
       "        26, 17,  4,  1,  2, 35, 21, 15, 29, 33, 13,  3, 12, 38, 36, 19,\n",
       "        45, 39, 24, 23, 47, 44, 20,  7, 32, 31, 41,  6, 43,  9, 30, 14],\n",
       "       [ 1, 41, 44,  9, 43, 16, 46,  5, 31, 45, 19, 24, 39, 25, 40,  2,\n",
       "        27,  0,  7, 35, 17, 21, 26, 47,  3, 13, 20, 15, 22,  6, 37,  8,\n",
       "        32, 28, 33, 38, 42, 36, 23, 12, 30, 14, 10, 18, 29,  4, 11, 34]],\n",
       "      dtype=int64)"
      ]
     },
     "execution_count": 30,
     "metadata": {},
     "output_type": "execute_result"
    }
   ],
   "source": [
    "sorting"
   ]
  },
  {
   "cell_type": "markdown",
   "metadata": {},
   "source": [
    "We see some clear yet interesting trends here looking at the top 3 items from LDA with 5 topics. We've got drinks, dairy, fruits, mix of a few things, and vegetables. This tells us that we could increase the number of clusters. "
   ]
  },
  {
   "cell_type": "code",
   "execution_count": 31,
   "metadata": {},
   "outputs": [
    {
     "name": "stdout",
     "output_type": "stream",
     "text": [
      "['coffee', 'juice', 'soda']\n",
      "['cheeses', 'yogurt', 'milk']\n",
      "['cherries', 'berries', 'grapefruit']\n",
      "['spaghetti sauce', 'canned vegetables', 'soap']\n",
      "['lettuce', 'cucumbers', 'cauliflower']\n"
     ]
    }
   ],
   "source": [
    "topic = []\n",
    "topic_model = []\n",
    "for topics in sorting:\n",
    "    topic = []\n",
    "    for item in topics:\n",
    "        topic.append(items_names['item_name'][int(item)+1])\n",
    "    topic_model.append(topic)\n",
    "    print(topic[:3])\n"
   ]
  },
  {
   "cell_type": "markdown",
   "metadata": {},
   "source": [
    "### LDA: 8 topics\n",
    "Since spaghetti sauce, canned vegetables, and soap don't belong to the same group, we can deduce that 8 topics are not sufficient. Let's try LDA with 8 topics, and show the top 4 items."
   ]
  },
  {
   "cell_type": "code",
   "execution_count": 32,
   "metadata": {},
   "outputs": [],
   "source": [
    "lda8 = LatentDirichletAllocation(n_components=8, learning_method=\"online\",\n",
    "                                max_iter=10, random_state=0, n_jobs=3, \n",
    "                                verbose=0)"
   ]
  },
  {
   "cell_type": "code",
   "execution_count": 33,
   "metadata": {},
   "outputs": [
    {
     "name": "stdout",
     "output_type": "stream",
     "text": [
      "LDA with 8 topics took 92.9 seconds.\n"
     ]
    }
   ],
   "source": [
    "start = time()\n",
    "topics8 = lda8.fit_transform(sX)\n",
    "print('LDA with 8 topics took %.1f seconds.' %(time()-start))"
   ]
  },
  {
   "cell_type": "markdown",
   "metadata": {},
   "source": [
    "Here we notice each of the 8 clusters 'make more sense'. We see coherent groupings like **meat**, **dairy**, **cleaning supplies**, **bread/loafs**, **beverages**, **fruits**, but still some inconsistencies exist. For example, we do not fully expect spaghetti sauce to be in the same grouping with pork and beef. One could expect to buy spaghetti sauce if spaghetti was also bought. Given more time, I would run the LDA model with one or more topics. A trivial upper bound of the number of topics is the number of distinct items (48), but then the topics would be meaningless. \n",
    "\n",
    "I can conclude here that these 8 topics are good enough to go with given the time limit. "
   ]
  },
  {
   "cell_type": "code",
   "execution_count": 34,
   "metadata": {},
   "outputs": [
    {
     "name": "stdout",
     "output_type": "stream",
     "text": [
      "['poultry', 'beef', 'pork', 'spaghetti sauce']\n",
      "['cheeses', 'milk', 'butter', 'yogurt']\n",
      "['hand soap', 'aluminum foil', 'shaving cream', 'toilet paper']\n",
      "['dinner rolls', 'sandwich loaves', 'tortillas', 'bagels']\n",
      "['broccoli', 'cucumbers', 'carrots', 'cauliflower']\n",
      "['soap', 'paper towels', 'flour', 'shampoo']\n",
      "['juice', 'coffee', 'soda', 'tea']\n",
      "['grapefruit', 'berries', 'cherries', 'apples']\n"
     ]
    }
   ],
   "source": [
    "sorting8 = np.argsort(lda8.components_, axis=1)[:, ::-1]\n",
    "topic = []\n",
    "topic_model = []\n",
    "for topics in sorting8:\n",
    "    topic = []\n",
    "    for item in topics:\n",
    "        topic.append(items_names['item_name'][int(item)+1])\n",
    "    topic_model.append(topic)\n",
    "    print(topic[:4])"
   ]
  },
  {
   "cell_type": "markdown",
   "metadata": {},
   "source": [
    "## Takeaway\n",
    "1) To answer the original question, we can place the items that are in the same topic group together as shown in the above cell. Even though we are not using some of the common cluster methods like K-means and DBSCAN, we can apply topic modelling techniques to solve a highly similar problem.\\\n",
    "2) What could enrich this notebook is a metric that validates the LDA models. Right now we are assessing the effectiveness of the LDA models with 'common sense', e.g. 'spaghetti sauce' does not belong with cleaning supplies. One metric that comes to mind that would address the root purpose of this exercise is sales. We were asked to \"maximize sales\", and a natural next step is to account for the price of these topic groupings. Perhaps I can start exploring the average cost per transaction, then measure the average price for each topic."
   ]
  },
  {
   "cell_type": "code",
   "execution_count": null,
   "metadata": {},
   "outputs": [],
   "source": []
  }
 ],
 "metadata": {
  "kernelspec": {
   "display_name": "Python 3",
   "language": "python",
   "name": "python3"
  },
  "language_info": {
   "codemirror_mode": {
    "name": "ipython",
    "version": 3
   },
   "file_extension": ".py",
   "mimetype": "text/x-python",
   "name": "python",
   "nbconvert_exporter": "python",
   "pygments_lexer": "ipython3",
   "version": "3.7.3"
  }
 },
 "nbformat": 4,
 "nbformat_minor": 4
}
